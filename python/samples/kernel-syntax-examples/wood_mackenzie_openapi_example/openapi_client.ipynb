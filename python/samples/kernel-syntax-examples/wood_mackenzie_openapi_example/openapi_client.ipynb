{
 "cells": [
  {
   "cell_type": "code",
   "execution_count": 16,
   "metadata": {},
   "outputs": [],
   "source": [
    "from semantic_kernel.connectors.openapi.kernel_openapi import RestApiOperation\n",
    "from typing import Dict, Mapping, Optional, Union\n",
    "\n",
    "async def run_operation(\n",
    "    self,\n",
    "    operation: RestApiOperation,\n",
    "    path_params: Optional[Dict[str, str]] = None,\n",
    "    query_params: Optional[Dict[str, str]] = None,\n",
    "    headers: Optional[Dict[str, str]] = None,\n",
    "    request_body: Optional[Union[str, Dict[str, str]]] = None,\n",
    ") -> str:\n",
    "    prepared_request = operation.prepare_request(\n",
    "        path_params=path_params,\n",
    "        query_params=query_params,\n",
    "        headers=headers,\n",
    "        request_body=request_body,\n",
    "    )\n",
    "    is_valid = prepared_request.validate_request(spec=self.spec)\n",
    "    if not is_valid:\n",
    "        return None\n",
    "\n",
    "    async with aiohttp.ClientSession(raise_for_status=True) as session:\n",
    "        async with session.request(\n",
    "            prepared_request.method,\n",
    "            prepared_request.url,\n",
    "            params=prepared_request.params,\n",
    "            headers=prepared_request.headers,\n",
    "            json=prepared_request.request_body,\n",
    "        ) as response:\n",
    "            response_text = await response.text()\n",
    "            print(\"Raw API Response:\", response_text)  # Print the raw response\n",
    "            return response_text"
   ]
  },
  {
   "cell_type": "code",
   "execution_count": 17,
   "metadata": {},
   "outputs": [
    {
     "name": "stdout",
     "output_type": "stream",
     "text": [
      "metadata=KernelFunctionMetadata(name='GetEarningsCallNotes', plugin_name='openApiPlugin', description='Earnings Call Notes', parameters=[KernelParameterMetadata(name='path_params', description='A dictionary of path parameters', default_value=None, type_='Dict, str', is_required=False, type_object=None), KernelParameterMetadata(name='query_params', description='A dictionary of query parameters', default_value=None, type_='Dict, str', is_required=False, type_object=None), KernelParameterMetadata(name='headers', description='A dictionary of headers', default_value=None, type_='Dict, str', is_required=False, type_object=None), KernelParameterMetadata(name='request_body', description='A dictionary of the request body', default_value=None, type_='Dict, str', is_required=False, type_object=None)], is_prompt=False, is_asynchronous=True, return_parameter=KernelParameterMetadata(name='return', description='', default_value=None, type_='str', is_required=True, type_object=None)) method=<function register_openapi_plugin.<locals>.create_run_operation_function.<locals>.run_openapi_operation at 0x7f6496a160e0> stream_method=None\n",
      "FunctionResult received:\n",
      "None\n"
     ]
    }
   ],
   "source": [
    "import asyncio\n",
    "from semantic_kernel.functions.function_result import FunctionResult  # Corrected import\n",
    "import semantic_kernel as sk\n",
    "from semantic_kernel.connectors.openapi import register_openapi_plugin\n",
    "\n",
    "if __name__ == \"__main__\":\n",
    "    \"\"\"Client\"\"\"\n",
    "    kernel = sk.Kernel()\n",
    "\n",
    "    openapi_plugin = register_openapi_plugin(\n",
    "        kernel, \"openApiPlugin\", \"natgas-equity.yaml\"\n",
    "    )\n",
    "    # variables = {\n",
    "    #     \"query_params\": '{\"limit\": \"5\", \"text\": \"Equinor\"}',\n",
    "    #     \"headers\": '{\"Cache-Control\": \"no-cache\", \"Gen-Api-Key\": \"beac8ea8436b4db785af539108dfff9e\"}',\n",
    "    # }\n",
    "\n",
    "    context_variables = sk.KernelArguments(\n",
    "        query_params={\"limit\": \"5\", \"text\": \"Equinor\", \"format\": \"json\"},\n",
    "        headers={\n",
    "            \"Cache-Control\": \"no-cache\",\n",
    "            \"Gen-Api-Key\": \"beac8ea8436b4db785af539108dfff9e\",\n",
    "        },\n",
    "    )\n",
    "\n",
    "    print(openapi_plugin[\"GetEarningsCallNotes\"])\n",
    "\n",
    "    result = await (\n",
    "        # Call the function defined in openapi.yaml\n",
    "        openapi_plugin[\"GetEarningsCallNotes\"].invoke(\n",
    "            kernel, arguments=context_variables\n",
    "        )\n",
    "    )\n",
    "\n",
    "    # Check if the result is a FunctionResult object and print its value\n",
    "    if isinstance(result, FunctionResult):\n",
    "        print(\"FunctionResult received:\")\n",
    "        print(result.value)  # This should print the actual result value\n",
    "    else:\n",
    "        print(\"Result:\")\n",
    "        print(result)  # This will print the result as is"
   ]
  },
  {
   "cell_type": "code",
   "execution_count": 18,
   "metadata": {},
   "outputs": [
    {
     "name": "stdout",
     "output_type": "stream",
     "text": [
      "FunctionResult received:\n",
      "Response data type: <class 'NoneType'>\n",
      "Response data attributes: ['__bool__', '__class__', '__delattr__', '__dir__', '__doc__', '__eq__', '__format__', '__ge__', '__getattribute__', '__gt__', '__hash__', '__init__', '__init_subclass__', '__le__', '__lt__', '__ne__', '__new__', '__reduce__', '__reduce_ex__', '__repr__', '__setattr__', '__sizeof__', '__str__', '__subclasshook__']\n"
     ]
    }
   ],
   "source": [
    "    if isinstance(result, FunctionResult):\n",
    "        print(\"FunctionResult received:\")\n",
    "        # If the response data is a dictionary or list, print it directly\n",
    "        if isinstance(result.value, (dict, list)):\n",
    "            print(result.value)\n",
    "        # If the response data is another object, you may need to access its attributes\n",
    "        else:\n",
    "            print(\"Response data type:\", type(result.value))\n",
    "            print(\"Response data attributes:\", dir(result.value))\n",
    "    else:\n",
    "        print(\"Result:\")\n",
    "        print(result)"
   ]
  },
  {
   "cell_type": "code",
   "execution_count": null,
   "metadata": {},
   "outputs": [],
   "source": []
  }
 ],
 "metadata": {
  "kernelspec": {
   "display_name": "semantic-kernel",
   "language": "python",
   "name": "python3"
  },
  "language_info": {
   "codemirror_mode": {
    "name": "ipython",
    "version": 3
   },
   "file_extension": ".py",
   "mimetype": "text/x-python",
   "name": "python",
   "nbconvert_exporter": "python",
   "pygments_lexer": "ipython3",
   "version": "3.10.13"
  }
 },
 "nbformat": 4,
 "nbformat_minor": 2
}
